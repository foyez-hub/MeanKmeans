{
  "nbformat": 4,
  "nbformat_minor": 0,
  "metadata": {
    "colab": {
      "private_outputs": true,
      "provenance": [],
      "include_colab_link": true
    },
    "kernelspec": {
      "name": "python3",
      "display_name": "Python 3"
    },
    "language_info": {
      "name": "python"
    }
  },
  "cells": [
    {
      "cell_type": "markdown",
      "metadata": {
        "id": "view-in-github",
        "colab_type": "text"
      },
      "source": [
        "<a href=\"https://colab.research.google.com/github/foyez-hub/MeanKmeans/blob/main/kmeans_IN_Bigdata.ipynb\" target=\"_parent\"><img src=\"https://colab.research.google.com/assets/colab-badge.svg\" alt=\"Open In Colab\"/></a>"
      ]
    },
    {
      "cell_type": "code",
      "source": [
        "import numpy as np\n",
        "import matplotlib.pyplot as plt\n",
        "from sklearn.cluster import KMeans\n",
        "from sklearn.datasets import load_iris\n",
        "from sklearn.preprocessing import StandardScaler\n",
        "from sklearn.metrics import silhouette_score\n",
        "import pandas as pd\n"
      ],
      "metadata": {
        "id": "1a15ZPxbPtpg"
      },
      "execution_count": null,
      "outputs": []
    },
    {
      "cell_type": "markdown",
      "source": [
        "Data load"
      ],
      "metadata": {
        "id": "kAEBnTe_RJtm"
      }
    },
    {
      "cell_type": "code",
      "source": [
        "iris = load_iris()\n",
        "X = iris.data\n"
      ],
      "metadata": {
        "id": "t2uexrJuRDyQ"
      },
      "execution_count": null,
      "outputs": []
    },
    {
      "cell_type": "markdown",
      "source": [
        "Elbow Method"
      ],
      "metadata": {
        "id": "Lm0ffPUwuNhQ"
      }
    },
    {
      "cell_type": "code",
      "source": [
        "class ElbowMethod:\n",
        "    def __init__(self, max_clusters, n_init):\n",
        "        self.max_clusters = max_clusters\n",
        "        self.n_init = n_init\n",
        "        self.inertia_values = []\n",
        "\n",
        "    def calculate_inertia(self, data):\n",
        "        self.inertia_values = []\n",
        "        possible_k_values = range(1, self.max_clusters + 1)\n",
        "\n",
        "        for k in possible_k_values:\n",
        "            kmeans = KMeans(n_clusters=k, n_init=self.n_init)\n",
        "            kmeans.fit(data)\n",
        "            self.inertia_values.append(kmeans.inertia_)\n",
        "\n",
        "    def plot_elbow_curve(self):\n",
        "        plt.plot(range(1, self.max_clusters + 1), self.inertia_values, marker='o')\n",
        "        plt.xlabel('Number of Clusters (k)')\n",
        "        plt.ylabel('Inertia')\n",
        "        plt.title('Elbow Method for Optimal k')\n",
        "        plt.show()\n",
        "\n",
        "    def find_best_k(self):\n",
        "        diff_inertia = [self.inertia_values[i] - self.inertia_values[i+1] for i in range(len(self.inertia_values)-1)]\n",
        "        best_k = diff_inertia.index(max(diff_inertia)) + 2\n",
        "        return best_k\n",
        "\n"
      ],
      "metadata": {
        "id": "Lc6jNKbduKYQ"
      },
      "execution_count": null,
      "outputs": []
    },
    {
      "cell_type": "markdown",
      "source": [
        "call elbow Method for Iris Dataset\n",
        "\n",
        "\n",
        "\n"
      ],
      "metadata": {
        "id": "DXjTp1OBg9Mk"
      }
    },
    {
      "cell_type": "code",
      "source": [
        "\n",
        "elbow = ElbowMethod(max_clusters=10, n_init=100)\n",
        "elbow.calculate_inertia(X)\n",
        "elbow.plot_elbow_curve()\n",
        "best_k = elbow.find_best_k()\n",
        "print(\"Best k:\", best_k)\n"
      ],
      "metadata": {
        "id": "RzZl9HLxQyg2"
      },
      "execution_count": null,
      "outputs": []
    },
    {
      "cell_type": "markdown",
      "source": [
        "Normal_Kmeans"
      ],
      "metadata": {
        "id": "0vSVO8xcQ41v"
      }
    },
    {
      "cell_type": "code",
      "source": [
        "class NormalKmeans:\n",
        "    def __init__(self, X, max_iters, max_clusters, k=None):\n",
        "        self.max_iters = max_iters\n",
        "        self.data = X\n",
        "\n",
        "        if k is None:\n",
        "            elbow = ElbowMethod(max_clusters=max_clusters, n_init=max_iters)\n",
        "            elbow.calculate_inertia(self.data)\n",
        "            self.k = elbow.find_best_k()\n",
        "        else:\n",
        "            self.k = k\n",
        "\n",
        "        self.kmeans = None\n",
        "        self.labels = None\n",
        "        self.centers = None\n",
        "        self.iterations = None  # Add this line\n",
        "\n",
        "    def fit(self):\n",
        "        self.kmeans = KMeans(n_clusters=self.k, n_init=self.max_iters)\n",
        "        self.kmeans.fit(self.data)\n",
        "        self.labels = self.kmeans.labels_\n",
        "        self.centers = self.kmeans.cluster_centers_\n",
        "        self.iterations = self.kmeans.n_iter_  # Use n_iter_ attribute instead of get_iterations()\n",
        "\n",
        "    def visualize(self):\n",
        "        plt.scatter(self.data[:, 0], self.data[:, 1], c=self.labels, cmap='viridis')\n",
        "        plt.scatter(self.centers[:, 0], self.centers[:, 1], marker='X', s=200, c='red')\n",
        "        plt.xlabel('Sepal Length (scaled)')\n",
        "        plt.ylabel('Sepal Width (scaled)')\n",
        "        plt.title('K-means Clustering')\n",
        "        plt.show()\n",
        "\n",
        "    def silhouette_score(self):\n",
        "        silhouette_avg = silhouette_score(self.data, self.labels)\n",
        "        return silhouette_avg\n",
        "\n",
        "    def get_iterations(self):\n",
        "        return self.iterations"
      ],
      "metadata": {
        "id": "4mS1p-mfQ8oQ"
      },
      "execution_count": null,
      "outputs": []
    },
    {
      "cell_type": "markdown",
      "source": [
        "Calling normal Kmeans"
      ],
      "metadata": {
        "id": "U2IgYQOBhTvq"
      }
    },
    {
      "cell_type": "code",
      "source": [
        "\n",
        "normalkmeans = NormalKmeans(X,max_iters=100,max_clusters=10,k=2)\n",
        "normalkmeans.fit()\n",
        "normalkmeans.visualize()\n",
        "\n",
        "silhouette_avg = normalkmeans.silhouette_score()\n",
        "print(\"Silhouette Score:\", silhouette_avg)\n",
        "\n",
        "\n",
        "print(\"Iterations:\", normalkmeans.get_iterations())\n"
      ],
      "metadata": {
        "id": "bmL0EkHzhRCb"
      },
      "execution_count": null,
      "outputs": []
    },
    {
      "cell_type": "markdown",
      "source": [
        "class of Meankmeans\n"
      ],
      "metadata": {
        "id": "PaOx5cCyJrMv"
      }
    },
    {
      "cell_type": "code",
      "source": [
        "\n",
        "class MeanKMeans:\n",
        "    def __init__(self,X,max_iters,max_clusters,k):\n",
        "        self.X=X\n",
        "\n",
        "        if(k==None):\n",
        "          elbow = ElbowMethod(max_clusters=max_clusters, n_init=max_iters)\n",
        "          elbow.calculate_inertia(self.X)\n",
        "          self.k = elbow.find_best_k()\n",
        "        else:\n",
        "          self.k=k\n",
        "\n",
        "        self.max_iters = max_iters\n",
        "\n",
        "    def meanOf_K_Current_Clusters(self, labels, X, centroids):\n",
        "        k = len(centroids)\n",
        "        mean_list = []\n",
        "        for i in range(k):\n",
        "            cluster_points = []\n",
        "            for each_index in range(len(labels)):\n",
        "                if labels[each_index] == i:\n",
        "                    cluster_points.append(X[each_index])\n",
        "            cluster_points = np.array(cluster_points)\n",
        "            if len(cluster_points) > 0:\n",
        "                mean = cluster_points.mean(axis=0)\n",
        "            else:\n",
        "                mean = centroids[i]\n",
        "            mean_list.append(mean)\n",
        "        return mean_list\n",
        "\n",
        "    def fit(self):\n",
        "        iterations = 0\n",
        "        np.random.seed(42)\n",
        "        centroids = self.X[np.random.choice(self.X.shape[0], self.k, replace=False)]\n",
        "\n",
        "        for _ in range(self.max_iters):\n",
        "            iterations += 1\n",
        "            labels = []\n",
        "            for point in X:\n",
        "                distances = []\n",
        "                means = self.meanOf_K_Current_Clusters(labels, self.X, centroids)\n",
        "                for each_mean in means:\n",
        "                    distance = np.sqrt(np.sum((point - each_mean) ** 2))\n",
        "                    distances.append(distance)\n",
        "                distances = np.array(distances)\n",
        "                labels.append(np.argmin(distances))\n",
        "\n",
        "            new_centroids = []\n",
        "            for i in range(self.k):\n",
        "                cluster_points = []\n",
        "                for each_index in range(len(self.X)):\n",
        "                    if labels[each_index] == i:\n",
        "                        cluster_points.append(self.X[each_index])\n",
        "                cluster_points = np.array(cluster_points)\n",
        "                if len(cluster_points) > 0:\n",
        "                    new_centroids.append(cluster_points.mean(axis=0))\n",
        "                else:\n",
        "                    new_centroids.append(centroids[i])\n",
        "\n",
        "            new_centroids = np.array(new_centroids)\n",
        "\n",
        "            if np.all(centroids == new_centroids):\n",
        "                break\n",
        "            centroids = new_centroids\n",
        "            self.centroids = centroids\n",
        "            self.labels = labels\n",
        "        self.iterations=iterations\n",
        "\n",
        "    def visualize(self):\n",
        "        plt.scatter(self.X[:, 0], self.X[:, 1], c=self.labels, cmap='viridis')\n",
        "        plt.scatter(self.centroids[:, 0], self.centroids[:, 1], c='red', marker='x', s=100)\n",
        "        plt.xlabel('Sepal Length')\n",
        "        plt.ylabel('Sepal Width')\n",
        "        plt.title('KMeans Clustering')\n",
        "        plt.show()\n",
        "\n",
        "    def silhouette_score(self):\n",
        "      silhouette_avg = silhouette_score(self.X, self.labels)\n",
        "      return silhouette_avg\n",
        "\n",
        "    def iterations_use(self):\n",
        "      return self.iterations\n",
        "\n",
        "\n",
        "\n",
        "\n",
        "\n",
        "\n",
        "\n",
        "\n"
      ],
      "metadata": {
        "id": "braIhSshJq3Y"
      },
      "execution_count": null,
      "outputs": []
    },
    {
      "cell_type": "markdown",
      "source": [
        "apply MeansKmeans in irisDataset\n",
        "\n",
        "\n",
        "\n",
        "\n"
      ],
      "metadata": {
        "id": "M0HGbgeEhejB"
      }
    },
    {
      "cell_type": "code",
      "source": [
        "meankmeans = MeanKMeans(X,max_iters=100,max_clusters=10,k=None)\n",
        "meankmeans.fit()\n",
        "meankmeans.visualize()\n",
        "meankmeans.silhouette_score()\n",
        "print(\"silhouette score->\",meankmeans.silhouette_score())\n",
        "print(\"Iterations->\",meankmeans.iterations_use())"
      ],
      "metadata": {
        "id": "cT6jREwUhbmT"
      },
      "execution_count": null,
      "outputs": []
    },
    {
      "cell_type": "markdown",
      "source": [
        "NormalKmeans VS MeanKmeans"
      ],
      "metadata": {
        "id": "oR14rJb1sKbz"
      }
    },
    {
      "cell_type": "code",
      "source": [
        "normalkmeans_iterations=[]\n",
        "Meankmeans_iterations=[]\n",
        "y=[]\n",
        "for i in range(2,11):\n",
        "   y.append(i)\n",
        "   normalkmeans = NormalKmeans(X,max_iters=100,max_clusters=10,k=i)\n",
        "   normalkmeans.fit()\n",
        "  #  normalkmeans.visualize()\n",
        "   silhouette_avg = normalkmeans.silhouette_score()\n",
        "  #  print(\"Silhouette Score of NormalKmeans:\", silhouette_avg)\n",
        "  #  print(\"Iterations of NormalKmeans:\", normalkmeans.get_iterations())\n",
        "   normalkmeans_iterations.append(normalkmeans.get_iterations())\n",
        "   meankmeans = MeanKMeans(X,max_iters=100,max_clusters=10,k=i)\n",
        "   meankmeans.fit()\n",
        "  #  meankmeans.visualize()\n",
        "   meankmeans.silhouette_score()\n",
        "  #  print(\"silhouette score of meankmeans ->\",meankmeans.silhouette_score())\n",
        "  #  print(\"Iterations of meankmeans->\",meankmeans.iterations_use())\n",
        "   Meankmeans_iterations.append(meankmeans.iterations_use())\n",
        "\n",
        "\n",
        "plt.plot(y, normalkmeans_iterations, label='NormalKMeans')\n",
        "plt.plot(y, Meankmeans_iterations, label='MeanKMeans')\n",
        "plt.xlabel('Number of Clusters (k)')\n",
        "plt.ylabel('Iterations')\n",
        "plt.title('Iteration Comparison between NormalKMeans and MeanKMeans')\n",
        "plt.legend()\n",
        "plt.grid(True)\n",
        "plt.show()\n",
        "\n"
      ],
      "metadata": {
        "id": "_kGP6ofEsKLV"
      },
      "execution_count": null,
      "outputs": []
    },
    {
      "cell_type": "markdown",
      "source": [
        "Divide the iris dataset in parts"
      ],
      "metadata": {
        "id": "wlrmznrvl59E"
      }
    },
    {
      "cell_type": "code",
      "source": [
        "\n",
        "\n",
        "n_parts = 5\n",
        "samples_per_part = int(len(X)/n_parts)\n",
        "\n",
        "X_divided = {}\n",
        "\n",
        "for i in range(n_parts):\n",
        "    start_idx = i * samples_per_part\n",
        "    end_idx = (i + 1) * samples_per_part\n",
        "    X_divided[f'part_{i + 1}'] = X[start_idx:end_idx]\n",
        "\n",
        "for part, data in X_divided.items():\n",
        "    print(f'{part}: Shape {data.shape}')\n",
        "    # print(data)\n"
      ],
      "metadata": {
        "id": "TZ3vswK_scGr"
      },
      "execution_count": null,
      "outputs": []
    },
    {
      "cell_type": "markdown",
      "source": [
        "Apply MeanKmeans in Each part"
      ],
      "metadata": {
        "id": "t6FtZ4Vkw6Y4"
      }
    },
    {
      "cell_type": "code",
      "source": [
        "for data in X_divided.items():\n",
        "\n",
        "  meankmeans = MeanKMeans(X,max_iters=100,max_clusters=10,k=None)\n",
        "  meankmeans.fit()\n",
        "  meankmeans.visualize()\n",
        "  meankmeans.silhouette_score()\n",
        "  print(\"silhouette score of meankmeans ->\",meankmeans.silhouette_score())\n",
        "  print(\"Iterations of meankmeans->\",meankmeans.iterations_use())\n",
        ""
      ],
      "metadata": {
        "id": "wSkbpDeFw5of"
      },
      "execution_count": null,
      "outputs": []
    }
  ]
}